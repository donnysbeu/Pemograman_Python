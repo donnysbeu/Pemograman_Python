{
  "nbformat": 4,
  "nbformat_minor": 0,
  "metadata": {
    "colab": {
      "name": "Untitled1.ipynb",
      "provenance": [],
      "mount_file_id": "1xkD2lgeEph9B9wAVhTA9PIbkNYkbpV1n",
      "authorship_tag": "ABX9TyMen20mFcUjqcF91opS+QNP",
      "include_colab_link": true
    },
    "kernelspec": {
      "display_name": "Python 3",
      "name": "python3"
    }
  },
  "cells": [
    {
      "cell_type": "markdown",
      "metadata": {
        "id": "view-in-github",
        "colab_type": "text"
      },
      "source": [
        "<a href=\"https://colab.research.google.com/github/donnysbeu/Pemograman_Python/blob/main/TUGAS11_Donny%20Setiawan%20Beu_1101194157.ipynb\" target=\"_parent\"><img src=\"https://colab.research.google.com/assets/colab-badge.svg\" alt=\"Open In Colab\"/></a>"
      ]
    },
    {
      "cell_type": "code",
      "metadata": {
        "colab": {
          "base_uri": "https://localhost:8080/"
        },
        "id": "N-8ErCNi0wYo",
        "outputId": "813b2d02-8eb3-42f0-ebc8-5442019df8a8"
      },
      "source": [
        "from google.colab import drive\n",
        "drive.mount('/content/drive')"
      ],
      "execution_count": 137,
      "outputs": [
        {
          "output_type": "stream",
          "text": [
            "Drive already mounted at /content/drive; to attempt to forcibly remount, call drive.mount(\"/content/drive\", force_remount=True).\n"
          ],
          "name": "stdout"
        }
      ]
    },
    {
      "cell_type": "code",
      "metadata": {
        "id": "q0K3o9Rs0yqj",
        "colab": {
          "base_uri": "https://localhost:8080/"
        },
        "outputId": "db796c04-4c39-4142-de5e-330ebe9fe343"
      },
      "source": [
        "cd /content/drive/MyDrive/TUGAS_11_Donny"
      ],
      "execution_count": 138,
      "outputs": [
        {
          "output_type": "stream",
          "text": [
            "/content/drive/MyDrive/TUGAS_11_Donny\n"
          ],
          "name": "stdout"
        }
      ]
    },
    {
      "cell_type": "code",
      "metadata": {
        "id": "A9KzuLrh05D5",
        "colab": {
          "base_uri": "https://localhost:8080/"
        },
        "outputId": "7a1fdf01-71ce-4d82-d359-b6e6ac3ca2f9"
      },
      "source": [
        "ls"
      ],
      "execution_count": 140,
      "outputs": [
        {
          "output_type": "stream",
          "text": [
            "\u001b[0m\u001b[01;34mdataset\u001b[0m/  \u001b[01;34mnnmodel_scene\u001b[0m/\n"
          ],
          "name": "stdout"
        }
      ]
    },
    {
      "cell_type": "code",
      "metadata": {
        "id": "xbSYzxMQ07SC"
      },
      "source": [
        "# import the necessary packages\n",
        "from keras.models import Sequential\n",
        "from keras.layers.core import Activation\n",
        "from keras.layers.core import Flatten\n",
        "from keras.layers.core import Dense\n",
        "from keras.optimizers import Adam\n",
        "from sklearn.preprocessing import LabelBinarizer\n",
        "from sklearn.model_selection import train_test_split\n",
        "from sklearn.metrics import classification_report\n",
        "from PIL import Image\n",
        "from imutils import paths\n",
        "import numpy as np\n",
        "import os"
      ],
      "execution_count": 142,
      "outputs": []
    },
    {
      "cell_type": "code",
      "metadata": {
        "colab": {
          "base_uri": "https://localhost:8080/"
        },
        "id": "VAyn2yfD07Wz",
        "outputId": "f7acce88-b515-4153-dd8c-64cd23368bd6"
      },
      "source": [
        "# grab all image paths in the input dataset directory, then initialize\n",
        "# our list of images and corresponding class labels\n",
        "print(\"[INFO] loading images...\")\n",
        "imagePaths = paths.list_images(\"dataset\")\n",
        "data = []\n",
        "labels = []"
      ],
      "execution_count": 157,
      "outputs": [
        {
          "output_type": "stream",
          "text": [
            "[INFO] loading images...\n"
          ],
          "name": "stdout"
        }
      ]
    },
    {
      "cell_type": "code",
      "metadata": {
        "id": "o--4CDT707b-"
      },
      "source": [
        "# loop over our input images\n",
        "for imagePath in imagePaths:\n",
        "\t# load the input image from disk, resize it to 64x64 pixels, scale\n",
        "\t# the pixel intensities to the range [0, 1], and then update our\n",
        "\t# images list\n",
        "\timage = Image.open(imagePath)\n",
        "  #preprocessing\n",
        "\timage = np.array(image.resize((192, 192))) / 255.0 #normalisasi\n",
        "\tdata.append(image)\n",
        "\n",
        "\t# extract the class label from the file path and update the\n",
        "\t# labels list\n",
        "\tlabel = imagePath.split(os.path.sep)[-2]\n",
        "\tlabels.append(label)"
      ],
      "execution_count": 158,
      "outputs": []
    },
    {
      "cell_type": "code",
      "metadata": {
        "id": "jfhSTqnk1AqC",
        "colab": {
          "base_uri": "https://localhost:8080/"
        },
        "outputId": "e5daa8fe-0495-4cec-c039-a36c2f85fd31"
      },
      "source": [
        "print(labels)"
      ],
      "execution_count": 159,
      "outputs": [
        {
          "output_type": "stream",
          "text": [
            "['GMB_01', 'GMB_01', 'GMB_01', 'GMB_01', 'GMB_01', 'GMB_01', 'GMB_01', 'GMB_01', 'GMB_01', 'GMB_01', 'GMB_01', 'GMB_01', 'GMB_01', 'GMB_01', 'GMB_01', 'GMB_01', 'GMB_01', 'GMB_01', 'GMB_01', 'GMB_01', 'GMB_01', 'GMB_01', 'GMB_01', 'GMB_01', 'GMB_01', 'GMB_01', 'GMB_01', 'GMB_01', 'GMB_01', 'GMB_01', 'GMB_01', 'GMB_01', 'GMB_01', 'GMB_01', 'GMB_01', 'GMB_01', 'GMB_01', 'GMB_01', 'GMB_01', 'GMB_01', 'GMB_01', 'GMB_01', 'GMB_01', 'GMB_01', 'GMB_01', 'GMB_01', 'GMB_01', 'GMB_01', 'GMB_01', 'GMB_01', 'GMB_01', 'GMB_01', 'GMB_01', 'GMB_01', 'GMB_01', 'GMB_01', 'GMB_01', 'GMB_01', 'GMB_01', 'GMB_01', 'GMB_01', 'GMB_01', 'GMB_01', 'GMB_01', 'GMB_01', 'GMB_01', 'GMB_01', 'GMB_01', 'GMB_01', 'GMB_01', 'GMB_01', 'GMB_01', 'GMB_01', 'GMB_01', 'GMB_01', 'GMB_01', 'GMB_01', 'GMB_01', 'GMB_01', 'GMB_01', 'GMB_01', 'GMB_01', 'GMB_01', 'GMB_01', 'GMB_01', 'GMB_01', 'GMB_01', 'GMB_01', 'GMB_01', 'GMB_01', 'GMB_01', 'GMB_01', 'GMB_01', 'GMB_01', 'GMB_01', 'GMB_01', 'GMB_01', 'GMB_01', 'GMB_01', 'GMB_01', 'GMB_01', 'GMB_01', 'GMB_01', 'GMB_01', 'GMB_01', 'GMB_01', 'GMB_01', 'GMB_01', 'GMB_01', 'GMB_01', 'GMB_01', 'GMB_01', 'GMB_01', 'GMB_01', 'GMB_01', 'GMB_01', 'GMB_03', 'GMB_03', 'GMB_03', 'GMB_03', 'GMB_03', 'GMB_03', 'GMB_03', 'GMB_03', 'GMB_03', 'GMB_03', 'GMB_03', 'GMB_03', 'GMB_03', 'GMB_03', 'GMB_03', 'GMB_03', 'GMB_03', 'GMB_03', 'GMB_03', 'GMB_03', 'GMB_03', 'GMB_03', 'GMB_03', 'GMB_03', 'GMB_03', 'GMB_03', 'GMB_03', 'GMB_03', 'GMB_03', 'GMB_03', 'GMB_03', 'GMB_03', 'GMB_03', 'GMB_03', 'GMB_03', 'GMB_03', 'GMB_03', 'GMB_03', 'GMB_03', 'GMB_03', 'GMB_03', 'GMB_03', 'GMB_03', 'GMB_03', 'GMB_03', 'GMB_03', 'GMB_03', 'GMB_03', 'GMB_03', 'GMB_03', 'GMB_03', 'GMB_03', 'GMB_03', 'GMB_03', 'GMB_03', 'GMB_03', 'GMB_03', 'GMB_03', 'GMB_03', 'GMB_03', 'GMB_03', 'GMB_03', 'GMB_03', 'GMB_03', 'GMB_03', 'GMB_03', 'GMB_03', 'GMB_03', 'GMB_03', 'GMB_03', 'GMB_03', 'GMB_03', 'GMB_03', 'GMB_03', 'GMB_03', 'GMB_03', 'GMB_03', 'GMB_03', 'GMB_03', 'GMB_03', 'GMB_03', 'GMB_03', 'GMB_03', 'GMB_03', 'GMB_03', 'GMB_03', 'GMB_03', 'GMB_03', 'GMB_03', 'GMB_03', 'GMB_03', 'GMB_03', 'GMB_03', 'GMB_03', 'GMB_03', 'GMB_03', 'GMB_03', 'GMB_03', 'GMB_03', 'GMB_03', 'GMB_03', 'GMB_03', 'GMB_03', 'GMB_03', 'GMB_03', 'GMB_03', 'GMB_03', 'GMB_03', 'GMB_03', 'GMB_03', 'GMB_03', 'GMB_03', 'GMB_02', 'GMB_02', 'GMB_02', 'GMB_02', 'GMB_02', 'GMB_02', 'GMB_02', 'GMB_02', 'GMB_02', 'GMB_02', 'GMB_02', 'GMB_02', 'GMB_02', 'GMB_02', 'GMB_02', 'GMB_02', 'GMB_02', 'GMB_02', 'GMB_02', 'GMB_02', 'GMB_02', 'GMB_02', 'GMB_02', 'GMB_02', 'GMB_02', 'GMB_02', 'GMB_02', 'GMB_02', 'GMB_02', 'GMB_02', 'GMB_02', 'GMB_02', 'GMB_02', 'GMB_02', 'GMB_02', 'GMB_02', 'GMB_02', 'GMB_02', 'GMB_02', 'GMB_02', 'GMB_02', 'GMB_02', 'GMB_02', 'GMB_02', 'GMB_02', 'GMB_02', 'GMB_02', 'GMB_02', 'GMB_02', 'GMB_02', 'GMB_02', 'GMB_02', 'GMB_02', 'GMB_02', 'GMB_02', 'GMB_02', 'GMB_02', 'GMB_02', 'GMB_02', 'GMB_02', 'GMB_02', 'GMB_02', 'GMB_02', 'GMB_02', 'GMB_02', 'GMB_02', 'GMB_02', 'GMB_02', 'GMB_02', 'GMB_02', 'GMB_02', 'GMB_02', 'GMB_02', 'GMB_02', 'GMB_02', 'GMB_02', 'GMB_02', 'GMB_02', 'GMB_02', 'GMB_02', 'GMB_02', 'GMB_02', 'GMB_02', 'GMB_02', 'GMB_02', 'GMB_02', 'GMB_02', 'GMB_02', 'GMB_02', 'GMB_02', 'GMB_02', 'GMB_02', 'GMB_02', 'GMB_02', 'GMB_02', 'GMB_02', 'GMB_02', 'GMB_02', 'GMB_02', 'GMB_02', 'GMB_02', 'GMB_02', 'GMB_02', 'GMB_02', 'GMB_02', 'GMB_02', 'GMB_02', 'GMB_02', 'GMB_02', 'GMB_02', 'GMB_02', 'GMB_02', 'GMB_02', 'GMB_02', 'GMB_04', 'GMB_04', 'GMB_04', 'GMB_04', 'GMB_04', 'GMB_04', 'GMB_04', 'GMB_04', 'GMB_04', 'GMB_04', 'GMB_04', 'GMB_04', 'GMB_04', 'GMB_04', 'GMB_04', 'GMB_04', 'GMB_04', 'GMB_04', 'GMB_04', 'GMB_04', 'GMB_04', 'GMB_04', 'GMB_04', 'GMB_04', 'GMB_04', 'GMB_04', 'GMB_04', 'GMB_04', 'GMB_04', 'GMB_04', 'GMB_04', 'GMB_04', 'GMB_04', 'GMB_04', 'GMB_04', 'GMB_04', 'GMB_04', 'GMB_04', 'GMB_04', 'GMB_04', 'GMB_04', 'GMB_04', 'GMB_04', 'GMB_04', 'GMB_04', 'GMB_04', 'GMB_04', 'GMB_04', 'GMB_04', 'GMB_04', 'GMB_04', 'GMB_04', 'GMB_04', 'GMB_04', 'GMB_04', 'GMB_04', 'GMB_04', 'GMB_04', 'GMB_04', 'GMB_04', 'GMB_04', 'GMB_04', 'GMB_04', 'GMB_04', 'GMB_04', 'GMB_04', 'GMB_04', 'GMB_04', 'GMB_04', 'GMB_04', 'GMB_04', 'GMB_04', 'GMB_04', 'GMB_04', 'GMB_04', 'GMB_04', 'GMB_04', 'GMB_04', 'GMB_04', 'GMB_04', 'GMB_04', 'GMB_04', 'GMB_04', 'GMB_04', 'GMB_04', 'GMB_04', 'GMB_04', 'GMB_04', 'GMB_04', 'GMB_04', 'GMB_04', 'GMB_04', 'GMB_04', 'GMB_04', 'GMB_04', 'GMB_04', 'GMB_04', 'GMB_04', 'GMB_04', 'GMB_04', 'GMB_04', 'GMB_04', 'GMB_04', 'GMB_04', 'GMB_04', 'GMB_04', 'GMB_04', 'GMB_04', 'GMB_04', 'GMB_04', 'GMB_04', 'GMB_04', 'GMB_04', 'GMB_04', 'GMB_04', 'GMB_04', 'GMB_04', 'GMB_04', 'GMB_04', 'GMB_04', 'GMB_04', 'GMB_04', 'GMB_05', 'GMB_05', 'GMB_05', 'GMB_05', 'GMB_05', 'GMB_05', 'GMB_05', 'GMB_05', 'GMB_05', 'GMB_05', 'GMB_05', 'GMB_05', 'GMB_05', 'GMB_05', 'GMB_05', 'GMB_05', 'GMB_05', 'GMB_05', 'GMB_05', 'GMB_05', 'GMB_05', 'GMB_05', 'GMB_05', 'GMB_05', 'GMB_05', 'GMB_05', 'GMB_05', 'GMB_05', 'GMB_05', 'GMB_05', 'GMB_05', 'GMB_05', 'GMB_05', 'GMB_05', 'GMB_05', 'GMB_05', 'GMB_05', 'GMB_05', 'GMB_05', 'GMB_05', 'GMB_05', 'GMB_05', 'GMB_05']\n"
          ],
          "name": "stdout"
        }
      ]
    },
    {
      "cell_type": "code",
      "metadata": {
        "id": "X4aVyTuJ1AwB"
      },
      "source": [
        "# encode the labels, converting them from strings to integers\n",
        "lb = LabelBinarizer()\n",
        "labels = lb.fit_transform(labels)"
      ],
      "execution_count": 160,
      "outputs": []
    },
    {
      "cell_type": "code",
      "metadata": {
        "id": "zKBoh1nB1A2g",
        "colab": {
          "base_uri": "https://localhost:8080/"
        },
        "outputId": "9261e42e-b0e7-4971-c6bc-008c1b5f379f"
      },
      "source": [
        "print(labels)"
      ],
      "execution_count": 161,
      "outputs": [
        {
          "output_type": "stream",
          "text": [
            "[[1 0 0 0 0]\n",
            " [1 0 0 0 0]\n",
            " [1 0 0 0 0]\n",
            " ...\n",
            " [0 0 0 0 1]\n",
            " [0 0 0 0 1]\n",
            " [0 0 0 0 1]]\n"
          ],
          "name": "stdout"
        }
      ]
    },
    {
      "cell_type": "code",
      "metadata": {
        "id": "43379mtr1KQt",
        "colab": {
          "base_uri": "https://localhost:8080/"
        },
        "outputId": "9f6f4dbf-1323-4334-f877-1eb01db1807b"
      },
      "source": [
        "# perform a training and testing split, using 75% of the data for\n",
        "# training and 25% for evaluation\n",
        "(trainX, testX, trainY, testY) = train_test_split(np.array(data),\tnp.array(labels), test_size=0.25, shuffle=True)\n",
        "print(trainX.shape)\n",
        "print(testX.shape)"
      ],
      "execution_count": 162,
      "outputs": [
        {
          "output_type": "stream",
          "text": [
            "(380, 192, 192, 3)\n",
            "(127, 192, 192, 3)\n"
          ],
          "name": "stdout"
        }
      ]
    },
    {
      "cell_type": "code",
      "metadata": {
        "id": "Ej3ToMat1KZK",
        "colab": {
          "base_uri": "https://localhost:8080/"
        },
        "outputId": "568dcc6c-656e-4d95-e6bd-ac5196d296fc"
      },
      "source": [
        "from keras.layers import Convolution2D, MaxPool2D\n",
        "from keras.models import Sequential\n",
        "from keras.layers.core import Flatten, Dense\n",
        "\n",
        "model1 = Sequential()\n",
        "model1.add(Convolution2D(16, (5,5), activation='relu', input_shape=(192,192,3)))\n",
        "model1.add(MaxPool2D(2,2))\n",
        "model1.add(Convolution2D(16, (3,3), activation='relu'))\n",
        "model1.add(MaxPool2D(2,2))\n",
        "model1.add(Convolution2D(32, (3,3), activation='relu'))\n",
        "model1.add(MaxPool2D(2,2))\n",
        "model1.add(Convolution2D(32, (3,3), activation='relu'))\n",
        "model1.add(MaxPool2D(2,2))\n",
        "#fully connected layer\n",
        "model1.add(Flatten())\n",
        "model1.add(Dense(100, activation='relu'))\n",
        "model1.add(Dense(5, activation='softmax'))\n",
        "\n",
        "model1.summary()"
      ],
      "execution_count": 163,
      "outputs": [
        {
          "output_type": "stream",
          "text": [
            "Model: \"sequential_7\"\n",
            "_________________________________________________________________\n",
            "Layer (type)                 Output Shape              Param #   \n",
            "=================================================================\n",
            "conv2d_28 (Conv2D)           (None, 188, 188, 16)      1216      \n",
            "_________________________________________________________________\n",
            "max_pooling2d_28 (MaxPooling (None, 94, 94, 16)        0         \n",
            "_________________________________________________________________\n",
            "conv2d_29 (Conv2D)           (None, 92, 92, 16)        2320      \n",
            "_________________________________________________________________\n",
            "max_pooling2d_29 (MaxPooling (None, 46, 46, 16)        0         \n",
            "_________________________________________________________________\n",
            "conv2d_30 (Conv2D)           (None, 44, 44, 32)        4640      \n",
            "_________________________________________________________________\n",
            "max_pooling2d_30 (MaxPooling (None, 22, 22, 32)        0         \n",
            "_________________________________________________________________\n",
            "conv2d_31 (Conv2D)           (None, 20, 20, 32)        9248      \n",
            "_________________________________________________________________\n",
            "max_pooling2d_31 (MaxPooling (None, 10, 10, 32)        0         \n",
            "_________________________________________________________________\n",
            "flatten_7 (Flatten)          (None, 3200)              0         \n",
            "_________________________________________________________________\n",
            "dense_14 (Dense)             (None, 100)               320100    \n",
            "_________________________________________________________________\n",
            "dense_15 (Dense)             (None, 5)                 505       \n",
            "=================================================================\n",
            "Total params: 338,029\n",
            "Trainable params: 338,029\n",
            "Non-trainable params: 0\n",
            "_________________________________________________________________\n"
          ],
          "name": "stdout"
        }
      ]
    },
    {
      "cell_type": "code",
      "metadata": {
        "id": "khS_avkP1Kg8",
        "colab": {
          "base_uri": "https://localhost:8080/"
        },
        "outputId": "2de28654-3505-4cba-841a-5508e8eed770"
      },
      "source": [
        "# train the model using the Adam optimizer\n",
        "print(\"[INFO] training network...\")\n",
        "opt = Adam(lr=1e-3, decay=1e-3 / 50)\n",
        "model1.compile(loss=\"categorical_crossentropy\", optimizer=opt, metrics=[\"accuracy\"])"
      ],
      "execution_count": 165,
      "outputs": [
        {
          "output_type": "stream",
          "text": [
            "[INFO] training network...\n"
          ],
          "name": "stdout"
        }
      ]
    },
    {
      "cell_type": "code",
      "metadata": {
        "id": "MMxrGXMJ1A62",
        "colab": {
          "base_uri": "https://localhost:8080/"
        },
        "outputId": "c877d5fa-3eb1-4fc1-8fd1-b2f28333c333"
      },
      "source": [
        "H = model1.fit(trainX, trainY, validation_data=(testX, testY), epochs=30, batch_size=32)"
      ],
      "execution_count": 166,
      "outputs": [
        {
          "output_type": "stream",
          "text": [
            "Epoch 1/30\n",
            "12/12 [==============================] - 12s 1s/step - loss: 1.5871 - accuracy: 0.2342 - val_loss: 1.5892 - val_accuracy: 0.1496\n",
            "Epoch 2/30\n",
            "12/12 [==============================] - 12s 1s/step - loss: 1.5181 - accuracy: 0.3658 - val_loss: 1.4852 - val_accuracy: 0.4173\n",
            "Epoch 3/30\n",
            "12/12 [==============================] - 13s 1s/step - loss: 1.3759 - accuracy: 0.4368 - val_loss: 1.2640 - val_accuracy: 0.5118\n",
            "Epoch 4/30\n",
            "12/12 [==============================] - 13s 1s/step - loss: 1.1644 - accuracy: 0.5500 - val_loss: 1.1530 - val_accuracy: 0.4882\n",
            "Epoch 5/30\n",
            "12/12 [==============================] - 13s 1s/step - loss: 0.9815 - accuracy: 0.6026 - val_loss: 1.0051 - val_accuracy: 0.6614\n",
            "Epoch 6/30\n",
            "12/12 [==============================] - 13s 1s/step - loss: 0.8546 - accuracy: 0.6447 - val_loss: 1.0451 - val_accuracy: 0.5827\n",
            "Epoch 7/30\n",
            "12/12 [==============================] - 12s 1s/step - loss: 0.7612 - accuracy: 0.7316 - val_loss: 0.9831 - val_accuracy: 0.6142\n",
            "Epoch 8/30\n",
            "12/12 [==============================] - 12s 1s/step - loss: 0.7300 - accuracy: 0.7105 - val_loss: 0.9097 - val_accuracy: 0.6693\n",
            "Epoch 9/30\n",
            "12/12 [==============================] - 12s 1s/step - loss: 0.6293 - accuracy: 0.7684 - val_loss: 0.8050 - val_accuracy: 0.6772\n",
            "Epoch 10/30\n",
            "12/12 [==============================] - 12s 1s/step - loss: 0.4517 - accuracy: 0.8368 - val_loss: 0.7587 - val_accuracy: 0.7480\n",
            "Epoch 11/30\n",
            "12/12 [==============================] - 12s 1s/step - loss: 0.3836 - accuracy: 0.8526 - val_loss: 0.6158 - val_accuracy: 0.7953\n",
            "Epoch 12/30\n",
            "12/12 [==============================] - 12s 1s/step - loss: 0.3789 - accuracy: 0.8737 - val_loss: 0.8448 - val_accuracy: 0.6850\n",
            "Epoch 13/30\n",
            "12/12 [==============================] - 12s 1s/step - loss: 0.4004 - accuracy: 0.8237 - val_loss: 0.6661 - val_accuracy: 0.7717\n",
            "Epoch 14/30\n",
            "12/12 [==============================] - 12s 1s/step - loss: 0.3152 - accuracy: 0.8947 - val_loss: 0.6570 - val_accuracy: 0.7559\n",
            "Epoch 15/30\n",
            "12/12 [==============================] - 12s 1s/step - loss: 0.2790 - accuracy: 0.8895 - val_loss: 0.7048 - val_accuracy: 0.7717\n",
            "Epoch 16/30\n",
            "12/12 [==============================] - 12s 1s/step - loss: 0.2229 - accuracy: 0.9237 - val_loss: 0.7502 - val_accuracy: 0.8189\n",
            "Epoch 17/30\n",
            "12/12 [==============================] - 13s 1s/step - loss: 0.1738 - accuracy: 0.9263 - val_loss: 0.5873 - val_accuracy: 0.7480\n",
            "Epoch 18/30\n",
            "12/12 [==============================] - 13s 1s/step - loss: 0.1605 - accuracy: 0.9526 - val_loss: 0.6700 - val_accuracy: 0.8110\n",
            "Epoch 19/30\n",
            "12/12 [==============================] - 13s 1s/step - loss: 0.1701 - accuracy: 0.9263 - val_loss: 0.5939 - val_accuracy: 0.8189\n",
            "Epoch 20/30\n",
            "12/12 [==============================] - 13s 1s/step - loss: 0.0973 - accuracy: 0.9684 - val_loss: 0.7964 - val_accuracy: 0.7874\n",
            "Epoch 21/30\n",
            "12/12 [==============================] - 13s 1s/step - loss: 0.0643 - accuracy: 0.9842 - val_loss: 0.7154 - val_accuracy: 0.7717\n",
            "Epoch 22/30\n",
            "12/12 [==============================] - 13s 1s/step - loss: 0.0768 - accuracy: 0.9895 - val_loss: 0.8105 - val_accuracy: 0.7953\n",
            "Epoch 23/30\n",
            "12/12 [==============================] - 13s 1s/step - loss: 0.1186 - accuracy: 0.9579 - val_loss: 0.6935 - val_accuracy: 0.8346\n",
            "Epoch 24/30\n",
            "12/12 [==============================] - 12s 1s/step - loss: 0.1686 - accuracy: 0.9342 - val_loss: 0.7949 - val_accuracy: 0.8189\n",
            "Epoch 25/30\n",
            "12/12 [==============================] - 12s 1s/step - loss: 0.1212 - accuracy: 0.9500 - val_loss: 0.7091 - val_accuracy: 0.8425\n",
            "Epoch 26/30\n",
            "12/12 [==============================] - 12s 1s/step - loss: 0.0675 - accuracy: 0.9842 - val_loss: 0.6704 - val_accuracy: 0.8425\n",
            "Epoch 27/30\n",
            "12/12 [==============================] - 13s 1s/step - loss: 0.0393 - accuracy: 0.9895 - val_loss: 0.9858 - val_accuracy: 0.7953\n",
            "Epoch 28/30\n",
            "12/12 [==============================] - 12s 1s/step - loss: 0.0210 - accuracy: 0.9974 - val_loss: 0.7045 - val_accuracy: 0.8583\n",
            "Epoch 29/30\n",
            "12/12 [==============================] - 12s 1s/step - loss: 0.0122 - accuracy: 1.0000 - val_loss: 0.7283 - val_accuracy: 0.8583\n",
            "Epoch 30/30\n",
            "12/12 [==============================] - 12s 1s/step - loss: 0.0075 - accuracy: 1.0000 - val_loss: 0.8473 - val_accuracy: 0.8189\n"
          ],
          "name": "stdout"
        }
      ]
    },
    {
      "cell_type": "code",
      "metadata": {
        "id": "fNqM9sid1USq",
        "colab": {
          "base_uri": "https://localhost:8080/",
          "height": 590
        },
        "outputId": "d7218c74-d207-46e0-a685-0f8652bffd92"
      },
      "source": [
        "import matplotlib.pyplot as plt\n",
        "\n",
        "print(H.history.keys())\n",
        "# summarize history for accuracy\n",
        "plt.plot(H.history['accuracy'])\n",
        "plt.plot(H.history['val_accuracy'])\n",
        "plt.title('model accuracy')\n",
        "plt.ylabel('accuracy')\n",
        "plt.xlabel('epoch')\n",
        "plt.legend(['train', 'test'], loc='upper left')\n",
        "plt.show()\n",
        "# summarize history for loss\n",
        "plt.plot(H.history['loss'])\n",
        "plt.plot(H.history['val_loss'])\n",
        "plt.title('model loss')\n",
        "plt.ylabel('loss')\n",
        "plt.xlabel('epoch')\n",
        "plt.legend(['train', 'test'], loc='upper left')\n",
        "plt.show()"
      ],
      "execution_count": 168,
      "outputs": [
        {
          "output_type": "stream",
          "text": [
            "dict_keys(['loss', 'accuracy', 'val_loss', 'val_accuracy'])\n"
          ],
          "name": "stdout"
        },
        {
          "output_type": "display_data",
          "data": {
            "image/png": "[encoded data removed]",
            "text/plain": [
              "<Figure size 432x288 with 1 Axes>"
            ]
          },
          "metadata": {
            "tags": [],
            "needs_background": "light"
          }
        },
        {
          "output_type": "display_data",
          "data": {
            "image/png": "[encoded data removed]",
            "text/plain": [
              "<Figure size 432x288 with 1 Axes>"
            ]
          },
          "metadata": {
            "tags": [],
            "needs_background": "light"
          }
        }
      ]
    },
    {
      "cell_type": "code",
      "metadata": {
        "id": "Dsp1d0jg1UbQ",
        "colab": {
          "base_uri": "https://localhost:8080/"
        },
        "outputId": "36d416e3-5304-45eb-fef4-4ca320ec6749"
      },
      "source": [
        "# evaluate the network\n",
        "print(\"[INFO] evaluating network...\")\n",
        "predictions = model1.predict(testX, batch_size=32)\n",
        "print(classification_report(testY.argmax(axis=1),\n",
        "\tpredictions.argmax(axis=1), target_names=lb.classes_))"
      ],
      "execution_count": 169,
      "outputs": [
        {
          "output_type": "stream",
          "text": [
            "[INFO] evaluating network...\n",
            "              precision    recall  f1-score   support\n",
            "\n",
            "      GMB_01       0.58      0.74      0.65        19\n",
            "      GMB_02       0.81      0.89      0.85        28\n",
            "      GMB_03       0.96      0.83      0.89        29\n",
            "      GMB_04       0.86      0.92      0.89        39\n",
            "      GMB_05       1.00      0.42      0.59        12\n",
            "\n",
            "    accuracy                           0.82       127\n",
            "   macro avg       0.84      0.76      0.77       127\n",
            "weighted avg       0.84      0.82      0.82       127\n",
            "\n"
          ],
          "name": "stdout"
        }
      ]
    },
    {
      "cell_type": "code",
      "metadata": {
        "id": "n9JLkDre1Um1",
        "colab": {
          "base_uri": "https://localhost:8080/"
        },
        "outputId": "7412ab17-77be-4683-a0bf-f1e2eaaab1b8"
      },
      "source": [
        "model1.save('nnmodel_scene')"
      ],
      "execution_count": 175,
      "outputs": [
        {
          "output_type": "stream",
          "text": [
            "INFO:tensorflow:Assets written to: nnmodel_scene/assets\n"
          ],
          "name": "stdout"
        }
      ]
    },
    {
      "cell_type": "code",
      "metadata": {
        "id": "JGYOfmK11A-U"
      },
      "source": [
        "import cv2\n",
        "import matplotlib.pyplot as plt\n",
        "image1='tes_daun.jpg'"
      ],
      "execution_count": 176,
      "outputs": []
    },
    {
      "cell_type": "code",
      "metadata": {
        "colab": {
          "base_uri": "https://localhost:8080/",
          "height": 269
        },
        "id": "f4MlGtMlXPFS",
        "outputId": "e295cf08-66e4-4d4f-fa44-b739ef3f92f3"
      },
      "source": [
        "img_array = cv2.imread(image1)\n",
        "plt.imshow(img_array)\n",
        "plt.show()\n",
        "# print(type(img_array))"
      ],
      "execution_count": 177,
      "outputs": [
        {
          "output_type": "display_data",
          "data": {
            "image/png": "[encoded data removed]",
            "text/plain": [
              "<Figure size 432x288 with 1 Axes>"
            ]
          },
          "metadata": {
            "tags": [],
            "needs_background": "light"
          }
        }
      ]
    },
    {
      "cell_type": "code",
      "metadata": {
        "id": "7swDiSm61f-a",
        "colab": {
          "base_uri": "https://localhost:8080/"
        },
        "outputId": "02c81b50-b9a2-4fd4-af5c-a48931039e5e"
      },
      "source": [
        "image_testing = Image.open('tes_daun.jpg')\n",
        "image_testing = np.array(image_testing.resize((192, 192))) / 255.0\n",
        "image_testing.shape "
      ],
      "execution_count": 178,
      "outputs": [
        {
          "output_type": "execute_result",
          "data": {
            "text/plain": [
              "(192, 192, 3)"
            ]
          },
          "metadata": {
            "tags": []
          },
          "execution_count": 178
        }
      ]
    },
    {
      "cell_type": "code",
      "metadata": {
        "id": "3krimlcr1gJM",
        "colab": {
          "base_uri": "https://localhost:8080/"
        },
        "outputId": "aa642a85-6380-493f-976e-962028883991"
      },
      "source": [
        "image_testing = np.expand_dims(image_testing, axis=0)\n",
        "print(image_testing.shape)"
      ],
      "execution_count": 179,
      "outputs": [
        {
          "output_type": "stream",
          "text": [
            "(1, 192, 192, 3)\n"
          ],
          "name": "stdout"
        }
      ]
    },
    {
      "cell_type": "code",
      "metadata": {
        "id": "P10i5jMY1gQ0",
        "colab": {
          "base_uri": "https://localhost:8080/"
        },
        "outputId": "8e08a47c-3149-4e88-8ead-7fc406b81080"
      },
      "source": [
        "output = model1.predict(image_testing, 1)\n",
        "print(output)\n",
        "print(lb.classes_[output.argmax(axis=1)])"
      ],
      "execution_count": 180,
      "outputs": [
        {
          "output_type": "stream",
          "text": [
            "[[2.4389714e-05 5.8123582e-09 8.5228635e-04 9.9912328e-01 2.1509687e-09]]\n",
            "['GMB_04']\n"
          ],
          "name": "stdout"
        }
      ]
    },
    {
      "cell_type": "code",
      "metadata": {
        "id": "HlJgHjz61nzf"
      },
      "source": [
        ""
      ],
      "execution_count": null,
      "outputs": []
    }
  ]
}